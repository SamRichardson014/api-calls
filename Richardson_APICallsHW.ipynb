{
 "cells": [
  {
   "cell_type": "code",
   "execution_count": 3,
   "id": "324e83c9",
   "metadata": {},
   "outputs": [],
   "source": [
    "import json\n",
    "import pandas as pd\n",
    "import requests"
   ]
  },
  {
   "cell_type": "code",
   "execution_count": 4,
   "id": "4e57a1ec",
   "metadata": {},
   "outputs": [
    {
     "name": "stdout",
     "output_type": "stream",
     "text": [
      "GOOG\n"
     ]
    }
   ],
   "source": [
    "#get stock from the user\n",
    "stock=input()"
   ]
  },
  {
   "cell_type": "code",
   "execution_count": 5,
   "id": "ad0eeaa6",
   "metadata": {},
   "outputs": [
    {
     "name": "stdout",
     "output_type": "stream",
     "text": [
      "The Stock we will research is:GOOG\n"
     ]
    }
   ],
   "source": [
    "print(\"The Stock we will research is:\" + stock)"
   ]
  },
  {
   "cell_type": "code",
   "execution_count": 6,
   "id": "5d6a476e",
   "metadata": {},
   "outputs": [
    {
     "name": "stdout",
     "output_type": "stream",
     "text": [
      "{\"quoteResponse\":{\"result\":[{\"language\":\"en-US\",\"region\":\"US\",\"quoteType\":\"EQUITY\",\"typeDisp\":\"Equity\",\"quoteSourceName\":\"Nasdaq Real Time Price\",\"triggerable\":true,\"customPriceAlertConfidence\":\"HIGH\",\"marketState\":\"CLOSED\",\"regularMarketChangePercent\":0.9552298,\"regularMarketPrice\":106.215,\"currency\":\"USD\",\"exchange\":\"NMS\",\"shortName\":\"Alphabet Inc.\",\"longName\":\"Alphabet Inc.\",\"messageBoardId\":\"finmb_29096\",\"exchangeTimezoneName\":\"America/New_York\",\"exchangeTimezoneShortName\":\"EDT\",\"gmtOffSetMilliseconds\":-14400000,\"market\":\"us_market\",\"esgPopulated\":false,\"firstTradeDateMilliseconds\":1092922200000,\"priceHint\":2,\"postMarketChangePercent\":-0.240077,\"postMarketTime\":1683331177,\"postMarketPrice\":105.96,\"postMarketChange\":-0.254997,\"regularMarketChange\":1.0049973,\"regularMarketTime\":1683316804,\"regularMarketDayHigh\":106.43,\"regularMarketDayRange\":\"104.74 - 106.43\",\"regularMarketDayLow\":104.74,\"regularMarketVolume\":20710627,\"regularMarketPreviousClose\":105.21,\"bid\":105.95,\"ask\":106.05,\"bidSize\":14,\"askSize\":11,\"fullExchangeName\":\"NasdaqGS\",\"financialCurrency\":\"USD\",\"regularMarketOpen\":105.32,\"averageDailyVolume3Month\":30675972,\"averageDailyVolume10Day\":25095190,\"fiftyTwoWeekLowChange\":22.765,\"fiftyTwoWeekLowChangePercent\":0.2727981,\"fiftyTwoWeekRange\":\"83.45 - 123.26\",\"fiftyTwoWeekHighChange\":-17.045006,\"fiftyTwoWeekHighChangePercent\":-0.13828497,\"fiftyTwoWeekLow\":83.45,\"fiftyTwoWeekHigh\":123.26,\"tradeable\":false,\"cryptoTradeable\":false,\"earningsTimestamp\":1682456400,\"earningsTimestampStart\":1690228800,\"earningsTimestampEnd\":1690574400,\"trailingAnnualDividendRate\":0.0,\"trailingPE\":23.550995,\"trailingAnnualDividendYield\":0.0,\"epsTrailingTwelveMonths\":4.51,\"epsForward\":6.2,\"epsCurrentYear\":5.3,\"priceEpsCurrentYear\":20.040565,\"sharesOutstanding\":5873999872,\"bookValue\":20.507,\"fiftyDayAverage\":101.7691,\"fiftyDayAverageChange\":4.4459,\"fiftyDayAverageChangePercent\":0.043686148,\"twoHundredDayAverage\":101.06352,\"twoHundredDayAverageChange\":5.151474,\"twoHundredDayAverageChangePercent\":0.050972633,\"marketCap\":1344214532096,\"forwardPE\":17.13145,\"priceToBook\":5.1794505,\"sourceInterval\":15,\"exchangeDataDelayedBy\":0,\"averageAnalystRating\":\"1.5 - Strong Buy\",\"displayName\":\"Alphabet\",\"symbol\":\"GOOG\"}],\"error\":null}}\n"
     ]
    }
   ],
   "source": [
    "apikey=\"IbVi0DsYpX2e3fqStGp677TYa0sjHIFL6n6qrQ0o\"\n",
    "\n",
    "url = \"https://yfapi.net/v6/finance/quote\"\n",
    "\n",
    "querystring = {\"symbols\": stock}\n",
    "\n",
    "headers = {\n",
    "    'x-api-key': apikey\n",
    "}\n",
    "\n",
    "response =requests.request(\"GET\", url, headers = headers, params = querystring)\n",
    "\n",
    "print(response.text)"
   ]
  },
  {
   "cell_type": "code",
   "execution_count": 7,
   "id": "b249740e",
   "metadata": {},
   "outputs": [
    {
     "name": "stdout",
     "output_type": "stream",
     "text": [
      "AlphabetPrice:$106.215\n"
     ]
    }
   ],
   "source": [
    "stock_json = response.json()\n",
    "print(stock_json['quoteResponse']['result'][0][\"displayName\"] + \"Price:$\" + str(stock_json['quoteResponse']['result'][0][\"regularMarketPrice\"]))"
   ]
  },
  {
   "cell_type": "code",
   "execution_count": null,
   "id": "b5e493b7",
   "metadata": {},
   "outputs": [],
   "source": []
  }
 ],
 "metadata": {
  "kernelspec": {
   "display_name": "Python 3 (ipykernel)",
   "language": "python",
   "name": "python3"
  },
  "language_info": {
   "codemirror_mode": {
    "name": "ipython",
    "version": 3
   },
   "file_extension": ".py",
   "mimetype": "text/x-python",
   "name": "python",
   "nbconvert_exporter": "python",
   "pygments_lexer": "ipython3",
   "version": "3.9.13"
  }
 },
 "nbformat": 4,
 "nbformat_minor": 5
}
